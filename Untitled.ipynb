{
 "cells": [
  {
   "cell_type": "code",
   "execution_count": null,
   "id": "270045a5-c149-4581-bd8c-65c995480d9c",
   "metadata": {},
   "outputs": [],
   "source": []
  },
  {
   "cell_type": "code",
   "execution_count": 17,
   "id": "76ffbad8-ebaa-4a43-932a-999bf57eb272",
   "metadata": {},
   "outputs": [],
   "source": [
    "def  foo(a):\n",
    "    def f():\n",
    "        print(\"beffo call\")\n",
    "        a()\n",
    "        print(\"after call\")\n",
    "    return f"
   ]
  },
  {
   "cell_type": "code",
   "execution_count": 14,
   "id": "1584d283-31d2-46aa-b042-5d4ac74742a4",
   "metadata": {},
   "outputs": [],
   "source": [
    "def bar():\n",
    "    print(\"hellp\")\n",
    "def bar2():\n",
    "    print(\"bar2\")"
   ]
  },
  {
   "cell_type": "code",
   "execution_count": 15,
   "id": "8764e658-1032-474d-8946-17d9795e373b",
   "metadata": {},
   "outputs": [
    {
     "data": {
      "text/plain": [
       "<function __main__.foo.<locals>.f()>"
      ]
     },
     "execution_count": 15,
     "metadata": {},
     "output_type": "execute_result"
    }
   ],
   "source": [
    "foo(bar)"
   ]
  },
  {
   "cell_type": "code",
   "execution_count": 20,
   "id": "8a56aa84-7f1b-4310-b707-bd8d3873500b",
   "metadata": {},
   "outputs": [],
   "source": [
    "@foo\n",
    "def bar3():\n",
    "    print(\"bar3\")"
   ]
  },
  {
   "cell_type": "code",
   "execution_count": 22,
   "id": "c831717b-8835-4971-97b7-b5bba2260510",
   "metadata": {},
   "outputs": [],
   "source": [
    "def bar3():\n",
    "    print(\"bar3\")\n",
    "bar3 =foo(bar3)"
   ]
  },
  {
   "cell_type": "code",
   "execution_count": 24,
   "id": "36529aac-b1c5-40c3-866d-b826299086e4",
   "metadata": {},
   "outputs": [
    {
     "name": "stdout",
     "output_type": "stream",
     "text": [
      "beffo call\n",
      "bar3\n",
      "after call\n"
     ]
    }
   ],
   "source": [
    "bar3()"
   ]
  },
  {
   "cell_type": "code",
   "execution_count": 30,
   "id": "49e93820-da2b-4851-a66f-9880dd4e21d1",
   "metadata": {},
   "outputs": [],
   "source": [
    "class Foo:\n",
    "    def print(self):\n",
    "        super().print()\n",
    "        print(\"hellp\")\n",
    "class Bar:\n",
    "    def print(slef):\n",
    "        print(\"bar_primt\")\n",
    "    def bar_print(self):\n",
    "        print(\"bar_primt\")\n",
    "\n",
    "class My(Foo,Bar):\n",
    "    pass"
   ]
  },
  {
   "cell_type": "code",
   "execution_count": 31,
   "id": "25eabb07-adc3-4762-86d0-5c7a5aae36b1",
   "metadata": {},
   "outputs": [
    {
     "ename": "AttributeError",
     "evalue": "'super' object has no attribute 'print'",
     "output_type": "error",
     "traceback": [
      "\u001b[0;31m---------------------------------------------------------------------------\u001b[0m",
      "\u001b[0;31mAttributeError\u001b[0m                            Traceback (most recent call last)",
      "Cell \u001b[0;32mIn[31], line 2\u001b[0m\n\u001b[1;32m      1\u001b[0m f \u001b[38;5;241m=\u001b[39m Foo()\n\u001b[0;32m----> 2\u001b[0m \u001b[43mf\u001b[49m\u001b[38;5;241;43m.\u001b[39;49m\u001b[43mprint\u001b[49m\u001b[43m(\u001b[49m\u001b[43m)\u001b[49m\n",
      "Cell \u001b[0;32mIn[30], line 3\u001b[0m, in \u001b[0;36mFoo.print\u001b[0;34m(self)\u001b[0m\n\u001b[1;32m      2\u001b[0m \u001b[38;5;28;01mdef\u001b[39;00m \u001b[38;5;21mprint\u001b[39m(\u001b[38;5;28mself\u001b[39m):\n\u001b[0;32m----> 3\u001b[0m     \u001b[38;5;28;43msuper\u001b[39;49m\u001b[43m(\u001b[49m\u001b[43m)\u001b[49m\u001b[38;5;241;43m.\u001b[39;49m\u001b[43mprint\u001b[49m()\n\u001b[1;32m      4\u001b[0m     \u001b[38;5;28mprint\u001b[39m(\u001b[38;5;124m\"\u001b[39m\u001b[38;5;124mhellp\u001b[39m\u001b[38;5;124m\"\u001b[39m)\n",
      "\u001b[0;31mAttributeError\u001b[0m: 'super' object has no attribute 'print'"
     ]
    }
   ],
   "source": [
    "f = Foo()\n",
    "f.print()"
   ]
  },
  {
   "cell_type": "code",
   "execution_count": 29,
   "id": "da41dd40-09a2-4c1f-926f-f753e72c944e",
   "metadata": {},
   "outputs": [
    {
     "name": "stdout",
     "output_type": "stream",
     "text": [
      "hellp\n",
      "bar_primt\n"
     ]
    }
   ],
   "source": [
    "my = My()\n",
    "my.print()\n",
    "my.bar_print()"
   ]
  },
  {
   "cell_type": "code",
   "execution_count": null,
   "id": "fd40c193-812d-41fd-afbf-5a33e7e22364",
   "metadata": {},
   "outputs": [],
   "source": []
  }
 ],
 "metadata": {
  "kernelspec": {
   "display_name": "Python 3 (ipykernel)",
   "language": "python",
   "name": "python3"
  },
  "language_info": {
   "codemirror_mode": {
    "name": "ipython",
    "version": 3
   },
   "file_extension": ".py",
   "mimetype": "text/x-python",
   "name": "python",
   "nbconvert_exporter": "python",
   "pygments_lexer": "ipython3",
   "version": "3.11.6"
  }
 },
 "nbformat": 4,
 "nbformat_minor": 5
}
